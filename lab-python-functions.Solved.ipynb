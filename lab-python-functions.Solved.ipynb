{
 "cells": [
  {
   "cell_type": "markdown",
   "id": "25d7736c-ba17-4aff-b6bb-66eba20fbf4e",
   "metadata": {},
   "source": [
    "# Lab | Functions"
   ]
  },
  {
   "cell_type": "markdown",
   "id": "0c581062-8967-4d93-b06e-62833222f930",
   "metadata": {
    "tags": []
   },
   "source": [
    "## Exercise: Managing Customer Orders with Functions\n",
    "\n",
    "In the previous exercise, you improved the code for managing customer orders by using loops and flow control. Now, let's take it a step further and refactor the code by introducing functions.\n",
    "\n",
    "Follow the steps below to complete the exercise:\n",
    "\n",
    "1. Define a function named `initialize_inventory` that takes `products` as a parameter. Inside the function, implement the code for initializing the inventory dictionary using a loop and user input.\n",
    "\n",
    "2. Define a function named `get_customer_orders` that takes no parameters. Inside the function, implement the code for prompting the user to enter the product names using a loop. The function should return the `customer_orders` set.\n",
    "\n",
    "3. Define a function named `update_inventory` that takes `customer_orders` and `inventory` as parameters. Inside the function, implement the code for updating the inventory dictionary based on the customer orders.\n",
    "\n",
    "4. Define a function named `calculate_order_statistics` that takes `customer_orders` and `products` as parameters. Inside the function, implement the code for calculating the order statistics (total products ordered, and percentage of unique products ordered). The function should return these values.\n",
    "\n",
    "5. Define a function named `print_order_statistics` that takes `order_statistics` as a parameter. Inside the function, implement the code for printing the order statistics.\n",
    "\n",
    "6. Define a function named `print_updated_inventory` that takes `inventory` as a parameter. Inside the function, implement the code for printing the updated inventory.\n",
    "\n",
    "7. Call the functions in the appropriate sequence to execute the program and manage customer orders.\n",
    "\n",
    "Hints for functions:\n",
    "\n",
    "- Consider the input parameters required for each function and their return values.\n",
    "- Utilize function parameters and return values to transfer data between functions.\n",
    "- Test your functions individually to ensure they work correctly.\n",
    "\n",
    "\n"
   ]
  },
  {
   "cell_type": "code",
   "execution_count": 36,
   "id": "7f61b471",
   "metadata": {},
   "outputs": [],
   "source": [
    "def initialize_inventory(products):\n",
    "    \n",
    "    inventory = {}\n",
    "    \n",
    "    for product in products:\n",
    "        quantity = int(input(f'Enter the quantity available in the inventory of {product}:'))\n",
    "        \n",
    "        inventory[product] = quantity\n",
    "\n",
    "    return inventory\n",
    "    "
   ]
  },
  {
   "cell_type": "code",
   "execution_count": 37,
   "id": "fa25d9f5",
   "metadata": {},
   "outputs": [],
   "source": [
    "def get_customer_orders():\n",
    "    customer_orders = set()  \n",
    "    \n",
    "    while True:\n",
    "        product = input(\"Enter the product name (or type 'done' to finish): \").strip().lower()\n",
    "        \n",
    "        if product == 'done':  \n",
    "            break\n",
    "        \n",
    "        customer_orders.add(product) \n",
    "    \n",
    "    return customer_orders"
   ]
  },
  {
   "cell_type": "code",
   "execution_count": 38,
   "id": "a56a360e",
   "metadata": {},
   "outputs": [],
   "source": [
    "def update_inventory(customer_orders, inventory):\n",
    "    for product in customer_orders:\n",
    "        if product in inventory and inventory[product] > 0:\n",
    "            inventory[product] -= 1 \n",
    "        else:\n",
    "            print(f\"{product} is either out of stock or not in inventory.\")\n",
    "    \n",
    "    return inventory "
   ]
  },
  {
   "cell_type": "code",
   "execution_count": 39,
   "id": "4ca3be4a",
   "metadata": {},
   "outputs": [],
   "source": [
    "def calculate_order_statistics(customer_orders, products):\n",
    "    total_products_ordered = len(customer_orders)  \n",
    "    unique_percentage = (total_products_ordered / len(products)) * 100  \n",
    "    \n",
    "    return total_products_ordered, unique_percentage"
   ]
  },
  {
   "cell_type": "code",
   "execution_count": 40,
   "id": "cfb5c64e",
   "metadata": {},
   "outputs": [],
   "source": [
    "def print_order_statistics(order_statistics):\n",
    "    total_products_ordered, unique_percentage = order_statistics  \n",
    "    \n",
    "    print(f\"Total unique products ordered: {total_products_ordered}\")\n",
    "    print(f\"Percentage of unique products ordered: {unique_percentage:.2f}%\")\n"
   ]
  },
  {
   "cell_type": "code",
   "execution_count": 41,
   "id": "b0aa0f87",
   "metadata": {},
   "outputs": [],
   "source": [
    "def print_updated_inventory(inventory):\n",
    "    print(\"\\nUpdated Inventory:\")\n",
    "    for product, quantity in inventory.items():\n",
    "        print(f\"{product}: {quantity} left in stock\")\n"
   ]
  },
  {
   "cell_type": "code",
   "execution_count": 42,
   "id": "63690335",
   "metadata": {},
   "outputs": [
    {
     "name": "stdout",
     "output_type": "stream",
     "text": [
      "Enter the quantity available in the inventory of t-shirt:10\n",
      "Enter the quantity available in the inventory of mug:10\n",
      "Enter the quantity available in the inventory of hat:10\n",
      "Enter the quantity available in the inventory of book:101\n",
      "Enter the quantity available in the inventory of keychain:10\n"
     ]
    }
   ],
   "source": [
    "products = ['t-shirt', 'mug', 'hat', 'book', 'keychain']\n",
    "inventory = initialize_inventory(products)"
   ]
  },
  {
   "cell_type": "code",
   "execution_count": 43,
   "id": "e5f33931",
   "metadata": {},
   "outputs": [
    {
     "name": "stdout",
     "output_type": "stream",
     "text": [
      "Enter the product name (or type 'done' to finish): Mug\n",
      "Enter the product name (or type 'done' to finish): Book\n",
      "Enter the product name (or type 'done' to finish): Hat\n",
      "Enter the product name (or type 'done' to finish): done\n"
     ]
    }
   ],
   "source": [
    "customer_orders = get_customer_orders()\n",
    "updated_inventory = update_inventory(customer_orders, inventory)"
   ]
  },
  {
   "cell_type": "code",
   "execution_count": 44,
   "id": "e7abec98",
   "metadata": {},
   "outputs": [
    {
     "name": "stdout",
     "output_type": "stream",
     "text": [
      "Total unique products ordered: 3\n",
      "Percentage of unique products ordered: 60.00%\n",
      "\n",
      "Updated Inventory:\n",
      "t-shirt: 10 left in stock\n",
      "mug: 9 left in stock\n",
      "hat: 9 left in stock\n",
      "book: 100 left in stock\n",
      "keychain: 10 left in stock\n"
     ]
    }
   ],
   "source": [
    "order_statistics = calculate_order_statistics(customer_orders, products)\n",
    "print_order_statistics(order_statistics)\n",
    "\n",
    "\n",
    "print_updated_inventory(updated_inventory)"
   ]
  },
  {
   "cell_type": "code",
   "execution_count": null,
   "id": "81dbdca0",
   "metadata": {},
   "outputs": [],
   "source": []
  }
 ],
 "metadata": {
  "kernelspec": {
   "display_name": "Python 3 (ipykernel)",
   "language": "python",
   "name": "python3"
  },
  "language_info": {
   "codemirror_mode": {
    "name": "ipython",
    "version": 3
   },
   "file_extension": ".py",
   "mimetype": "text/x-python",
   "name": "python",
   "nbconvert_exporter": "python",
   "pygments_lexer": "ipython3",
   "version": "3.9.7"
  }
 },
 "nbformat": 4,
 "nbformat_minor": 5
}
